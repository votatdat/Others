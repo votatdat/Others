{
 "cells": [
  {
   "cell_type": "markdown",
   "metadata": {},
   "source": [
    "Link: https://orga.cat/posts/most-useful-git-commands?fbclid=IwAR1heYYRvdKEQtyPLDs3kDGRDRd-4wcq0EYRNO4oWf9YVviTnINWpJ3ySEM"
   ]
  },
  {
   "cell_type": "markdown",
   "metadata": {},
   "source": [
    "### Set your details\n",
    "*git config --global user.name \"John Doe\"*\n",
    "<br/>*git config --global user.email \"john\\@example.com\"*\n",
    "<br/><br/>Use *--global* to set the configuration for all projects. If *git config* is used without *--global* and run inside a project directory, the settings are set for the specific project."
   ]
  },
  {
   "cell_type": "markdown",
   "metadata": {},
   "source": [
    "### Make git ignore file modes\n",
    "*cd project/*\n",
    "<br/> *git config core.filemode false*\n",
    "<br/><br/>This option is useful if the file permissions are not important to us, for example when we are on Windows."
   ]
  },
  {
   "cell_type": "markdown",
   "metadata": {},
   "source": [
    "### See your settings\n",
    "*git config --list*"
   ]
  },
  {
   "cell_type": "markdown",
   "metadata": {},
   "source": [
    "### Initialize a git repository for existing code\n",
    "*cd existing-project/*\n",
    "<br/>*git init*"
   ]
  },
  {
   "cell_type": "markdown",
   "metadata": {},
   "source": [
    "### Clone a remote repository\n",
    "*git clone https://github.com/user/repository.git*\n",
    "<br/><br/>This creates a new directory with the name of the repository."
   ]
  },
  {
   "cell_type": "markdown",
   "metadata": {},
   "source": [
    "### Clone a remote repository in the current directory\n",
    "*git clone https://github.com/user/repository.git* "
   ]
  },
  {
   "cell_type": "markdown",
   "metadata": {},
   "source": [
    "### Get help for a specific git command\n",
    "*git help clone*"
   ]
  },
  {
   "cell_type": "markdown",
   "metadata": {},
   "source": [
    "### Update and merge your current branch with a remote\n",
    "*cd repository/\n",
    "<br/>git pull origin master*\n",
    "<br/><br/>Where *origin* is the **remote repository**, and *master* the **remote branch**.\n",
    "If you don't want to merge your changes, use git fetch"
   ]
  },
  {
   "cell_type": "markdown",
   "metadata": {},
   "source": [
    "### View remote urls\n",
    "*git remote -v*"
   ]
  },
  {
   "cell_type": "markdown",
   "metadata": {},
   "source": [
    "### Change origin url\n",
    "*git remote set-url origin https://github.com/repo.git*"
   ]
  },
  {
   "cell_type": "markdown",
   "metadata": {},
   "source": [
    "### Add remote\n",
    "*git remote add remote-name https://github.com/user/repo.git*"
   ]
  },
  {
   "cell_type": "markdown",
   "metadata": {},
   "source": [
    "### See non-staged (non-added) changes to existing files\n",
    "*git diff*\n",
    "<br/><br/>Note that this does not track new files."
   ]
  },
  {
   "cell_type": "markdown",
   "metadata": {},
   "source": [
    "### See staged, non-committed changes\n",
    "*git diff --cached*"
   ]
  },
  {
   "cell_type": "markdown",
   "metadata": {},
   "source": [
    "### See differences between local changes and master\n",
    "*git diff origin/master*\n",
    "<br/><br/>Note that *origin/master* is **one local branch**, a shorthand for *refs/remotes/origin/master*, which is the **full name of the remote-tracking branch**."
   ]
  },
  {
   "cell_type": "markdown",
   "metadata": {},
   "source": [
    "### See differences between two commits\n",
    "*git diff COMMIT1_ID COMMIT2_ID*"
   ]
  },
  {
   "cell_type": "markdown",
   "metadata": {},
   "source": [
    "### See the files that changed between two commits\n",
    "*git diff --name-only COMMIT1_ID COMMIT2_ID*"
   ]
  },
  {
   "cell_type": "markdown",
   "metadata": {},
   "source": [
    "### See the files changed in a specific commit\n",
    "*git diff-tree --no-commit-id --name-only -r COMMIT_ID*\n",
    "<br/>or\n",
    "<br/>*git show --pretty=\"format:\" --name-only COMMIT_ID*\n",
    "<br/><br/>Source: http://stackoverflow.com/a/424142/1391963"
   ]
  },
  {
   "cell_type": "markdown",
   "metadata": {},
   "source": [
    "### See diff before push\n",
    "*git diff --cached origin/master*"
   ]
  },
  {
   "cell_type": "markdown",
   "metadata": {},
   "source": [
    "### See diff with only the changed lines (no context)\n",
    "*git diff --unified=0*"
   ]
  },
  {
   "cell_type": "markdown",
   "metadata": {},
   "source": [
    "### See details (log message, text diff) of a commit\n",
    "*git show COMMIT_ID*"
   ]
  },
  {
   "cell_type": "markdown",
   "metadata": {},
   "source": [
    "### Count the number of commits\n",
    "*git rev-list HEAD --count*\n",
    "<br/>*git rev-list COMMIT_ID --count*"
   ]
  },
  {
   "cell_type": "markdown",
   "metadata": {},
   "source": [
    "### Check the status of the working tree (current branch, changed files...)\n",
    "*git status*"
   ]
  },
  {
   "cell_type": "markdown",
   "metadata": {},
   "source": [
    "### Make some changes, commit them\n",
    "*git add changed_file.txt\n",
    "<br/>git add folder-with-changed-files/\n",
    "<br/>git commit -m \"Committing changes\"*"
   ]
  },
  {
   "cell_type": "markdown",
   "metadata": {},
   "source": [
    "### Rename/move and remove files\n",
    "*git rm removeme.txt tmp/crap.txt\n",
    "<br/>git mv file_oldname.txt file_newname.txt\n",
    "<br/>git commit -m \"deleting 2 files, renaming 1\"*"
   ]
  },
  {
   "cell_type": "markdown",
   "metadata": {},
   "source": [
    "### Change message of the last commit\n",
    "*git commit --amend -m \"New commit message\"*"
   ]
  },
  {
   "cell_type": "markdown",
   "metadata": {},
   "source": [
    "### Push local commits to remote branch\n",
    "*git push origin master*"
   ]
  },
  {
   "cell_type": "markdown",
   "metadata": {},
   "source": [
    "### Push commits to all remotes, in a single command\n",
    "Git does not do that, but see https://stackoverflow.com/a/18674313/1391963"
   ]
  },
  {
   "cell_type": "markdown",
   "metadata": {},
   "source": [
    "### See recent commit history\n",
    "*git log*\n",
    "### See commit history for the last two commits\n",
    "*git log -2*\n",
    "### See commit history for the last two commits, with diff\n",
    "*git log -p -2*\n",
    "### See commit history printed in single lines\n",
    "*git log --pretty=oneline*"
   ]
  },
  {
   "cell_type": "markdown",
   "metadata": {},
   "source": [
    "### Revert one commit, push it\n",
    "*git revert dd61ab21\n",
    "<br/>git push origin master*\n",
    "### Revert to the moment before one commit\n",
    "\\# reset the index to the desired tree\n",
    "*git reset 56e05fced*\n",
    "\n",
    "\\# move the branch pointer back to the previous HEAD\n",
    "<br/>*git reset --soft HEAD@{1}*\n",
    "<br/><br/>\n",
    "*git commit -m \"Revert to 56e05fced\"*\n",
    "\n",
    "\\# Update working copy to reflect the new commit\n",
    "git reset --hard\n",
    "<br/><br/>Source: http://stackoverflow.com/q/1895059/1391963"
   ]
  },
  {
   "cell_type": "markdown",
   "metadata": {},
   "source": [
    "### Undo the last commit, preserving local changes\n",
    "*git reset --soft HEAD~1*\n",
    "### Undo the last commit, without preserving local changes\n",
    "*git reset --hard HEAD~1*\n",
    "### Undo the last commit, preserving local changes in the index\n",
    "*git reset --mixed HEAD~1*\n",
    "<br/>Or \n",
    "<br/>*git reset HEAD~1*\n",
    "<br/><br/>See also http://stackoverflow.com/q/927358/1391963\n",
    "\n",
    "### Undo non-pushed commits\n",
    "*git reset origin/master*"
   ]
  },
  {
   "cell_type": "markdown",
   "metadata": {},
   "source": [
    "### Reset to remote state\n",
    "*git fetch origin\n",
    "<br/>git reset --hard origin/master*"
   ]
  },
  {
   "cell_type": "markdown",
   "metadata": {},
   "source": [
    "### See local branches\n",
    "*git branch*\n",
    "### See all branches\n",
    "*git branch -a*"
   ]
  },
  {
   "cell_type": "markdown",
   "metadata": {},
   "source": [
    "### Make some changes, create a patch\n",
    "*git diff > patch-issue-1.patch*\n",
    "### Add a file and create a patch\n",
    "*git add newfile\n",
    "<br/>git diff --staged > patch-issue-2.patch*\n",
    "### Add a file, make some changes, and create a patch\n",
    "*git add newfile\n",
    "<br/>git diff HEAD > patch-issue-2.patch*\n",
    "### Make a patch for a commit\n",
    "*git format-patch COMMIT_ID*\n",
    "### Make patches for the last two commits\n",
    "*git format-patch HEAD~2*\n",
    "### Make patches for all non-pushed commits\n",
    "*git format-patch origin/master*\n",
    "### Create patches that contain binary content\n",
    "*git format-patch --binary --full-index origin/master*\n",
    "### Apply a patch\n",
    "*git apply -v patch-name.patch*\n",
    "### Apply a patch created using format-patch\n",
    "*git am patch1.patch*"
   ]
  },
  {
   "cell_type": "markdown",
   "metadata": {},
   "source": [
    "### Break up multiple changes into separate commits (or commit only part of a changed file)\n",
    "*git add --patch file.txt\n",
    "<br/>(press 'y' for the chunks to add)\n",
    "<br/>git commit -m 'first part of the file'\n",
    "<br/>(repeat if desired)*\n",
    "<br/><br/>Sources: https://stackoverflow.com/q/4948494/1391963, https://stackoverflow.com/q/1085162/1391963"
   ]
  },
  {
   "cell_type": "markdown",
   "metadata": {},
   "source": [
    "### Create a tag\n",
    "*git tag 7.x-1.3*\n",
    "### Push a tag\n",
    "*git push origin 7.x-1.3*"
   ]
  },
  {
   "cell_type": "markdown",
   "metadata": {},
   "source": [
    "### Create a branch\n",
    "*git checkout master\n",
    "<br/>git branch new-branch-name*\n",
    "<br/><br/>Here *master* is the starting point for the new branch. Note that with these 2 commands we don't move to the new branch, as we are still in master and we would need to run: \n",
    "<br/>*git checkout new-branch-name*\n",
    "<br/>The same can be achieved using one single command: \n",
    "<br/>*git checkout -b new-branch-name*\n",
    "### Create a branch from a previous commit\n",
    "*git branch branchname sha1-of-commit*\n",
    "<br/>or using a symbolic reference (e.g. last commit):\n",
    "<br/>*git branch branchname HEAD~1*\n",
    "<br/>You can also use\n",
    "<br/>*git checkout -b branchname sha1-of-commit*\n",
    "<br/><br/>Source: http://stackoverflow.com/a/2816728/1391963\n",
    "### Check out a branch\n",
    "*git checkout new-branch-name*\n",
    "### See commit history for just the current branch\n",
    "*git cherry -v master*\n",
    "<br/>(*master* is the branch you want to compare)\n",
    "### Merge branch commits\n",
    "*git checkout master\n",
    "<br/>git merge branch-name*\n",
    "<br/><br/>Here we are merging all commits of branch-name to master.\n",
    "### Merge a branch without committing\n",
    "*git merge branch-name --no-commit --no-ff*\n",
    "### See differences between the current state and a branch\n",
    "*git diff branch-name*\n",
    "### See differences in a file, between the current state and a branch\n",
    "*git diff branch-name path/to/file*\n",
    "#### Delete a branch\n",
    "*git branch -d new-branch-name*\n",
    "### Push the new branch\n",
    "*git push origin new-branch-name*\n",
    "### Get all branches\n",
    "*git fetch origin*"
   ]
  },
  {
   "cell_type": "markdown",
   "metadata": {},
   "source": [
    "### Get the git root directory\n",
    "*git rev-parse --show-toplevel*\n",
    "<br/><br/>Source: http://stackoverflow.com/q/957928/1391963\n",
    "\n",
    "### Remove from repository all locally deleted files\n",
    "*git rm $(git ls-files --deleted)*\n",
    "<br/><br/>Source: http://stackoverflow.com/a/5147119/1391963"
   ]
  },
  {
   "cell_type": "markdown",
   "metadata": {},
   "source": [
    "### Delete all untracked files\n",
    "*git clean -f*\n",
    "<br/>Including directories:\n",
    "<br/>*git clean -f -d*\n",
    "<br/>Preventing sudden cardiac arrest:\n",
    "<br/>*git clean -n -f -d*\n",
    "<br/><br/>Source: http://stackoverflow.com/q/61212/1391963\n",
    "### Delete all files from a git repository that have already been deleted from disk:\n",
    "*git ls-files --deleted -z | xargs -0 git rm*\n",
    "<br/><br/>Source (and alternatives): https://stackoverflow.com/a/5147119/1391963"
   ]
  },
  {
   "cell_type": "markdown",
   "metadata": {},
   "source": [
    "### Show total file size difference between two commits\n",
    "Short answer: Git does not do that.\n",
    "<br/>Long answer: See http://stackoverflow.com/a/10847242/1391963"
   ]
  },
  {
   "cell_type": "markdown",
   "metadata": {},
   "source": [
    "### Unstage (undo add) files:\n",
    "*git reset HEAD file.txt*"
   ]
  },
  {
   "cell_type": "markdown",
   "metadata": {},
   "source": [
    "### See closest tag\n",
    "*git describe --tags `git rev-list --tags --max-count=1`*\n",
    "<br/><br/>Source: http://stackoverflow.com/q/1404796/1391963. See also git-describe."
   ]
  },
  {
   "cell_type": "markdown",
   "metadata": {},
   "source": [
    "### Debug SSH connection issues\n",
    "*GIT_SSH_COMMAND=\"ssh -vvv\" git clone <your_repository>*"
   ]
  },
  {
   "cell_type": "markdown",
   "metadata": {},
   "source": [
    "### Have git pull running every X seconds, with GNU Screen\n",
    "*screen\n",
    "<br/>for((i=1;i<=10000;i+=1)); do sleep 30 && git pull; done\n",
    "<br/>Use Ctrl+a Ctrl+d to detach the screen.*"
   ]
  },
  {
   "cell_type": "markdown",
   "metadata": {},
   "source": [
    "### See previous git commands executed\n",
    "*history | grep git*\n",
    "<br/>or\n",
    "<br/>*grep '^git'  /root/.bash_history*"
   ]
  },
  {
   "cell_type": "markdown",
   "metadata": {},
   "source": [
    "### See recently used branches (i.e. branches ordered by most recent commit)\n",
    "*git for-each-ref --sort=-committerdate refs/heads/ | head*\n",
    "<br/><br/>Source: http://stackoverflow.com/q/5188320/1391963"
   ]
  },
  {
   "cell_type": "markdown",
   "metadata": {},
   "source": [
    "### Tar project files, excluding .git directory\n",
    "*cd ..\n",
    "<br/>tar cJf project.tar.xz project/ --exclude-vcs*"
   ]
  },
  {
   "cell_type": "markdown",
   "metadata": {},
   "source": [
    "### Tar all locally modified files\n",
    "*git diff --name-only | xargs tar -cf project.tar -T -*"
   ]
  },
  {
   "cell_type": "markdown",
   "metadata": {},
   "source": [
    "### Look for conflicts in your current files\n",
    "*grep -H -r \"<<<\" *\n",
    "<br/>grep -H -r \">>>\" *\n",
    "<br/>grep -H -r '^=======$' **\n",
    "<br/><br/>There's also git-grep: https://www.kernel.org/pub/software/scm/git/docs/git-grep.html"
   ]
  },
  {
   "cell_type": "markdown",
   "metadata": {},
   "source": [
    "### Apply a patch not using git:\n",
    "*patch -p1 < file.patch*"
   ]
  }
 ],
 "metadata": {
  "kernelspec": {
   "display_name": "Python 3",
   "language": "python",
   "name": "python3"
  },
  "language_info": {
   "codemirror_mode": {
    "name": "ipython",
    "version": 3
   },
   "file_extension": ".py",
   "mimetype": "text/x-python",
   "name": "python",
   "nbconvert_exporter": "python",
   "pygments_lexer": "ipython3",
   "version": "3.7.5"
  }
 },
 "nbformat": 4,
 "nbformat_minor": 2
}
