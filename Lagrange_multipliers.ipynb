{
 "cells": [
  {
   "cell_type": "markdown",
   "metadata": {},
   "source": [
    "Let's consider the example of finding the minimum of the function,\n",
    "\n",
    "$f(x)=exp(\\frac{−2x^2+y^2−xy}{2})$\n",
    "<br/>along the curve (or, subject to the constraint),\n",
    "\n",
    "$g(x)=x^2+3(y+1)^2−1=0$\n",
    "<br/>The functions themselves are fairly simple, on a contour map they look as follows,"
   ]
  },
  {
   "cell_type": "markdown",
   "metadata": {},
   "source": [
    "![](./Piks/Lagrange01.png)"
   ]
  },
  {
   "cell_type": "markdown",
   "metadata": {},
   "source": [
    "However, their combination can become quite complicated if they were computed directly, as can be inferred from the shape of the constraint on the surface plot,"
   ]
  },
  {
   "cell_type": "markdown",
   "metadata": {},
   "source": [
    "![](./Piks/Lagrange02.png)"
   ]
  },
  {
   "cell_type": "markdown",
   "metadata": {},
   "source": [
    "Do note, in this case, the function f(x) does not have any minima itself, but along the curve, there are two minima (and two maxima).\n",
    "\n",
    "A situation like this is where Lagrange multipliers come in. The observation is that the maxima and minima on the curve, will be found where the constraint is parallel to the contours of the function.\n",
    "\n",
    "Since the gradient is perpendicular to the contours, the gradient of the function and the gradient of the constraint will also be parallel, that is,\n",
    "\n",
    "$\\nabla f(\\mathbf{x}) = \\lambda \\nabla g(\\mathbf{x})$\n",
    "\n",
    "If we write this out in component form, this becomes,\n",
    "\n",
    "$\\begin{bmatrix} \\frac{\\partial f}{\\partial x} \\\\ \\frac{\\partial f}{\\partial y} \\end{bmatrix} = \\lambda \\begin{bmatrix} \\frac{\\partial g}{\\partial x} \\\\ \\frac{\\partial g}{\\partial y} \\end{bmatrix}$\n",
    "\n",
    "This equation, along with g(x)=0 is enough to specify the system fully. We can put all this information into a single vector equation,\n",
    "\n",
    "$\\nabla\\mathcal{L}(x, y, \\lambda) = \\begin{bmatrix} \\frac{\\partial f}{\\partial x} - \\lambda \\frac{\\partial g}{\\partial x} \\\\ \\frac{\\partial f}{\\partial y} - \\lambda \\frac{\\partial g}{\\partial y} \\\\ -g(\\mathbf{x}) \\end{bmatrix} = 0$\n",
    "\n",
    "and then solve this equation to solve the system.\n",
    "\n",
    "Let's reflect on what we have done here, we have converted from a question of finding a minimum of a 2D function constrained to a 1D curve, to finding the zeros of a 3D vector equation.\n",
    "\n",
    "Whereas this may sound like we have made the problem more complicated, we are exactly equipped to deal with this kind of problem; we can use the root finding methods, such as the Newton-Raphson method that we've discussed previously."
   ]
  },
  {
   "cell_type": "markdown",
   "metadata": {},
   "source": [
    "Let's set up the system,\n",
    "\n",
    "The function and two of the derivatives are defined for you. Set up the other two by replacing the question marks in the following code."
   ]
  },
  {
   "cell_type": "code",
   "execution_count": 1,
   "metadata": {},
   "outputs": [],
   "source": [
    "# First we define the functions,\n",
    "def f (x, y) :\n",
    "    return np.exp(-(2*x*x + y*y - x*y) / 2)\n",
    "\n",
    "def g (x, y) :\n",
    "    return x*x + 3*(y+1)**2 - 1\n",
    "\n",
    "# Next their derivatives,\n",
    "def dfdx (x, y) :\n",
    "    return 1/2 * (-4*x + y) * f(x, y)\n",
    "\n",
    "def dfdy (x, y) :\n",
    "    return 1/2 * (x - 2*y) * f(x, y)\n",
    "\n",
    "def dgdx (x, y) :\n",
    "    return 2*x\n",
    "\n",
    "def dgdy (x, y) :\n",
    "    return 6*(y + 1)"
   ]
  },
  {
   "cell_type": "code",
   "execution_count": 23,
   "metadata": {},
   "outputs": [
    {
     "name": "stdout",
     "output_type": "stream",
     "text": [
      "x = -1.17105\n",
      "y = -1.82136\n",
      "λ = 0.0779021\n",
      "f(x, y) = -0.0948448\n"
     ]
    }
   ],
   "source": [
    "import numpy as np\n",
    "from scipy import optimize\n",
    "\n",
    "def DL (xyλ) :\n",
    "    [x, y, λ] = xyλ\n",
    "    return np.array([dfdx(x, y) - λ * dgdx(x, y),\n",
    "                     dfdy(x, y) - λ * dgdy(x, y),\n",
    "                     - g(x, y)])\n",
    "\n",
    "(x0, y0, λ0) = (0.5, -0.5, 0)\n",
    "x, y, λ = optimize.root(DL, [x0, y0, λ0]).x\n",
    "print(\"x = %g\" % x)\n",
    "print(\"y = %g\" % y)\n",
    "print(\"λ = %g\" % λ)\n",
    "print(\"f(x, y) = %g\" % f(x, y))"
   ]
  },
  {
   "cell_type": "code",
   "execution_count": null,
   "metadata": {},
   "outputs": [],
   "source": [
    "-0.0958377"
   ]
  },
  {
   "cell_type": "code",
   "execution_count": null,
   "metadata": {},
   "outputs": [],
   "source": []
  },
  {
   "cell_type": "code",
   "execution_count": null,
   "metadata": {},
   "outputs": [],
   "source": [
    "x = 0.633052\n",
    "y = -0.591262\n",
    "λ = -0.131514\n",
    "f(x, y) = -0.913166"
   ]
  },
  {
   "cell_type": "code",
   "execution_count": null,
   "metadata": {},
   "outputs": [],
   "source": []
  },
  {
   "cell_type": "code",
   "execution_count": null,
   "metadata": {},
   "outputs": [],
   "source": [
    "x = -0.536382\n",
    "y = -1.58254\n",
    "λ = 0.0650676\n",
    "f(x, y) = -0.111696"
   ]
  },
  {
   "cell_type": "markdown",
   "metadata": {},
   "source": [
    "Calculate the minimum of\n",
    "\n",
    "$f(x, y) = -\\exp(x-y^2+x y)$\n",
    "\n",
    "on the constraint,\n",
    "\n",
    "$g(x, y) = \\cosh(y) + x - 2 = 0$\n",
    "\n",
    "Use the code you've written in the previous questions to help you."
   ]
  },
  {
   "cell_type": "code",
   "execution_count": 24,
   "metadata": {},
   "outputs": [
    {
     "name": "stdout",
     "output_type": "stream",
     "text": [
      "x = 0.957782\n",
      "y = 0.289565\n",
      "λ = -4.07789\n",
      "f(x, y) = -3.16222\n"
     ]
    }
   ],
   "source": [
    "# Import libraries\n",
    "import numpy as np\n",
    "from scipy import optimize\n",
    "\n",
    "# First we define the functions, YOU SHOULD IMPLEMENT THESE\n",
    "def f (x, y) :\n",
    "    return -np.exp(x-y*y+x*y)\n",
    "\n",
    "def g (x, y) :\n",
    "    return np.cosh(y) + x - 2\n",
    "\n",
    "# Next their derivatives, YOU SHOULD IMPLEMENT THESE\n",
    "def dfdx (x, y) :\n",
    "    return -np.exp(x-y*y+x*y)*(y+1)\n",
    "\n",
    "def dfdy (x, y) :\n",
    "    return -np.exp(x-y*y+x*y)*(-2*y + x)\n",
    "\n",
    "def dgdx (x, y) :\n",
    "    return 1\n",
    "\n",
    "def dgdy (x, y) :\n",
    "    return np.sinh(y)\n",
    "\n",
    "# Use the definition of DL from previously.\n",
    "def DL (xyλ) :\n",
    "    [x, y, λ] = xyλ\n",
    "    return np.array([\n",
    "            dfdx(x, y) - λ * dgdx(x, y),\n",
    "            dfdy(x, y) - λ * dgdy(x, y),\n",
    "            - g(x, y)\n",
    "        ])\n",
    "\n",
    "# To score on this question, the code above should set\n",
    "# the variables x, y, λ, to the values which solve the\n",
    "# Langrange multiplier problem.\n",
    "\n",
    "# I.e. use the optimize.root method, as you did previously.\n",
    "\n",
    "(x0, y0, λ0) = (1, 0, 0)\n",
    "\n",
    "x, y, λ = optimize.root(DL, [x0, y0, λ0]).x\n",
    "\n",
    "print(\"x = %g\" % x)\n",
    "print(\"y = %g\" % y)\n",
    "print(\"λ = %g\" % λ)\n",
    "print(\"f(x, y) = %g\" % f(x, y))"
   ]
  },
  {
   "cell_type": "code",
   "execution_count": null,
   "metadata": {},
   "outputs": [],
   "source": []
  },
  {
   "cell_type": "code",
   "execution_count": null,
   "metadata": {},
   "outputs": [],
   "source": []
  },
  {
   "cell_type": "code",
   "execution_count": null,
   "metadata": {},
   "outputs": [],
   "source": []
  }
 ],
 "metadata": {
  "kernelspec": {
   "display_name": "Python 3",
   "language": "python",
   "name": "python3"
  },
  "language_info": {
   "codemirror_mode": {
    "name": "ipython",
    "version": 3
   },
   "file_extension": ".py",
   "mimetype": "text/x-python",
   "name": "python",
   "nbconvert_exporter": "python",
   "pygments_lexer": "ipython3",
   "version": "3.7.7"
  }
 },
 "nbformat": 4,
 "nbformat_minor": 4
}
