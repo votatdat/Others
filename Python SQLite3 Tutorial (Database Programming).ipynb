{
 "cells": [
  {
   "cell_type": "markdown",
   "metadata": {},
   "source": [
    "Table of Contents:\n",
    "1. Create Connection\n",
    "2. SQLite3 Cursor\n",
    "3. Create Database\n",
    "4. Create Table\n",
    "5. Insert in Table\n",
    "6. Update Table\n",
    "7. Select statement\n",
    "8. Fetch all data\n",
    "9. SQLite3 rowcount\n",
    "10. List tables\n",
    "11. Check if table exists or not\n",
    "12. Drop Table\n",
    "13. SQLite3 Exceptions\n",
    "    <br/>13.1 DatabaseError\n",
    "    <br/>13.2 IntegrityError\n",
    "    <br/>13.3 ProgrammingError\n",
    "    <br/>13.4 OperationalError\n",
    "    <br/>13.5 NotSupportedError\n",
    "14. SQLite3 Executemany (Bulk insert)\n",
    "15. Close Connection\n",
    "16. SQLite3 datetime"
   ]
  },
  {
   "cell_type": "markdown",
   "metadata": {},
   "source": [
    "# 01 Create Connection"
   ]
  },
  {
   "cell_type": "markdown",
   "metadata": {},
   "source": [
    "``` mysql\n",
    "import sqlite3\n",
    "\n",
    "con = sqlite3.connect('mydatabase.db')\n",
    "```"
   ]
  },
  {
   "cell_type": "markdown",
   "metadata": {},
   "source": [
    "# 02 SQLite3 Cursor"
   ]
  },
  {
   "cell_type": "markdown",
   "metadata": {},
   "source": [
    "To execute SQLite statements in Python, you need a cursor object. You can create it using the **`cursor()`** method.\n",
    "\n",
    "The SQLite3 cursor is a method of the connection object. To execute the SQLite3 statements, a connection is established at first and then an object of the cursor is created using the connection object as follows:"
   ]
  },
  {
   "cell_type": "markdown",
   "metadata": {},
   "source": [
    "``` mysql\n",
    "con = sqlite3.connect('mydatabase.db')\n",
    "\n",
    "cursorObj = con.cursor()\n",
    "```"
   ]
  },
  {
   "cell_type": "markdown",
   "metadata": {},
   "source": [
    "Now we can use the cursor object to call the **`execute()`** method to execute any SQL queries."
   ]
  },
  {
   "cell_type": "markdown",
   "metadata": {},
   "source": [
    "# 03 Create Database"
   ]
  },
  {
   "cell_type": "markdown",
   "metadata": {},
   "source": [
    "When you create a connection with SQLite, a database file is automatically created if it doesn’t already exist. This database file is created on disk, we can also create a database in RAM by using **`:memory:`** with the connect function. This database is called *in-memory database*.\n",
    "\n",
    "Consider the code below in which we have created a database with a try, except and finally blocks to handle any exceptions:"
   ]
  },
  {
   "cell_type": "code",
   "execution_count": null,
   "metadata": {},
   "outputs": [],
   "source": [
    "import sqlite3\n",
    "from sqlite3 import Error\n",
    "\n",
    "def sql_connection():\n",
    "    try:\n",
    "        con = sqlite3.connect(':memory:')\n",
    "        print(\"Connection is established: Database is created in memory\")\n",
    "    except Error:\n",
    "        print(Error)\n",
    "    finally:\n",
    "        con.close()\n",
    "        print('Database close')\n",
    "\n",
    "sql_connection()"
   ]
  },
  {
   "cell_type": "markdown",
   "metadata": {},
   "source": [
    "# 04 Create Table"
   ]
  },
  {
   "cell_type": "markdown",
   "metadata": {},
   "source": [
    "To create a table in SQLite3, you can use the Create Table query in the `execute()` method. Consider the following steps:\n",
    "1. The connection object is created\n",
    "2. Cursor object is created using the connection object\n",
    "3. Using cursor object, execute method is called with create table query as the parameter\n",
    "\n",
    "Let’s create employees with the following attributes:\n",
    "``` mysql\n",
    "employees (id, name, salary, department, position, hireDate)\n",
    "```"
   ]
  },
  {
   "cell_type": "code",
   "execution_count": null,
   "metadata": {},
   "outputs": [],
   "source": [
    "import sqlite3\n",
    "from sqlite3 import Error\n",
    "\n",
    "def sql_connection():\n",
    "    try:\n",
    "        con = sqlite3.connect('mydatabase.db')\n",
    "        return con\n",
    "    except Error:\n",
    "        print(Error)\n",
    "\n",
    "def sql_table(con):\n",
    "    cursorObj = con.cursor()\n",
    "    cursorObj.execute(\"CREATE TABLE employees(\\\n",
    "                                            id integer PRIMARY KEY, \\\n",
    "                                            name text, \\\n",
    "                                            salary real, \\\n",
    "                                            department text, \\\n",
    "                                            position text, \\\n",
    "                                            hireDate text)\")\n",
    "    con.commit()\n",
    "    \n",
    "con = sql_connection()\n",
    "sql_table(con)"
   ]
  },
  {
   "cell_type": "markdown",
   "metadata": {},
   "source": [
    "In the above code, we have defined two methods:\n",
    "- the first one establishes a connection \n",
    "- the second method creates a cursor object to execute the create table statement.\n",
    "\n",
    "The **`commit()`** method saves all the changes we make. In the end, both methods are called."
   ]
  },
  {
   "cell_type": "markdown",
   "metadata": {},
   "source": [
    "# 05 Insert in Table"
   ]
  },
  {
   "cell_type": "markdown",
   "metadata": {},
   "source": [
    "To insert data in a table, we use the `INSERT INTO` statement. Consider the following line of code:\n",
    "``` mysql\n",
    "cursorObj.execute(\"INSERT INTO employees VALUES(1, 'John', 700, 'HR', 'Manager', '2017-01-04')\")\n",
    "\n",
    "con.commit()\n",
    "```"
   ]
  },
  {
   "cell_type": "code",
   "execution_count": null,
   "metadata": {},
   "outputs": [],
   "source": [
    "cursorObj = con.cursor()\n",
    "cursorObj.execute(\"INSERT INTO employees VALUES(1, 'John', 700, 'HR', 'Manager', '2017-01-04')\")\n",
    "con.commit()"
   ]
  },
  {
   "cell_type": "markdown",
   "metadata": {},
   "source": [
    "We can also pass values/arguments to an `INSERT` statement in the `execute()` method. You can use the question mark `(?)` as a placeholder for each value. The syntax of the INSERT will be like the following:\n",
    "``` mysql\n",
    "cursorObj.execute('''INSERT INTO employees(id, name, salary, department, position, hireDate) \\\n",
    "                            VALUES(?, ?, ?, ?, ?, ?)''', entities)\n",
    "```\n",
    "Where entities contain the values for the placeholders as follows:\n",
    "``` mysql\n",
    "entities = (2, 'Andrew', 800, 'IT', 'Tech', '2018-02-06')\n",
    "```\n",
    "\n",
    "The entire code is as follows:"
   ]
  },
  {
   "cell_type": "code",
   "execution_count": null,
   "metadata": {},
   "outputs": [],
   "source": [
    "import sqlite3\n",
    "\n",
    "con = sqlite3.connect('mydatabase.db')\n",
    "\n",
    "def sql_insert(con, entities):\n",
    "\n",
    "    cursorObj = con.cursor()\n",
    "    \n",
    "    cursorObj.execute('INSERT INTO employees(id, name, salary, department, position, hireDate) \\\n",
    "                                VALUES(?, ?, ?, ?, ?, ?)', entities)\n",
    "    \n",
    "    con.commit()\n",
    "\n",
    "entities = (2, 'Andrew', 800, 'IT', 'Tech', '2018-02-06')\n",
    "\n",
    "sql_insert(con, entities)"
   ]
  },
  {
   "cell_type": "markdown",
   "metadata": {},
   "source": [
    "# 06 Update Table"
   ]
  },
  {
   "cell_type": "markdown",
   "metadata": {},
   "source": [
    "To update the table simply create a connection, then create a cursor object using the connection and finally use the **`UPDATE`** statement in the `execute()` method.\n",
    "\n",
    "Suppose that we want to update the name of the employee whose id equals 2. For updating, we will use the UPDATE statement and for the employee whose id equals 2. We will use the WHERE clause as a condition to select this employee.\n",
    "\n",
    "Consider the following code:"
   ]
  },
  {
   "cell_type": "code",
   "execution_count": null,
   "metadata": {},
   "outputs": [],
   "source": [
    "def sql_update(con):\n",
    "    cursorObj = con.cursor()\n",
    "    cursorObj.execute('UPDATE employees \\\n",
    "                        SET name = \"Rogers\" \\\n",
    "                          where id = 2')\n",
    "    con.commit()\n",
    "\n",
    "sql_update(con)"
   ]
  },
  {
   "cell_type": "markdown",
   "metadata": {},
   "source": [
    "# 07 Select statement"
   ]
  },
  {
   "cell_type": "markdown",
   "metadata": {},
   "source": [
    "The select statement is used to select data from a particular table. If you want to select all the columns of the data from a table, you can use the asterisk (\\*). The syntax for this will be as follows:\n",
    "``` mysql\n",
    "select * from table_name\n",
    "```\n",
    "In SQLite3, the `SELECT` statement is executed in the execute method of the cursor object. For example, select all the columns of the employees’ table, run the following code:"
   ]
  },
  {
   "cell_type": "code",
   "execution_count": null,
   "metadata": {},
   "outputs": [],
   "source": [
    "cursorObj = con.cursor()\n",
    "cursorObj.execute('SELECT * FROM employees ')"
   ]
  },
  {
   "cell_type": "code",
   "execution_count": null,
   "metadata": {},
   "outputs": [],
   "source": [
    "cursorObj.execute('SELECT id, name FROM employees')"
   ]
  },
  {
   "cell_type": "markdown",
   "metadata": {},
   "source": [
    "# 08 Fetch all data"
   ]
  },
  {
   "cell_type": "markdown",
   "metadata": {},
   "source": [
    "To fetch the data from a database we will execute the `SELECT` statement and then will use the **`fetchall()`** method of the cursor object to store the values into a variable. After that, we will loop through the variable and print all values.\n",
    "\n",
    "The code will be like this:"
   ]
  },
  {
   "cell_type": "code",
   "execution_count": null,
   "metadata": {},
   "outputs": [],
   "source": [
    "import sqlite3\n",
    "\n",
    "con = sqlite3.connect('mydatabase.db')\n",
    "\n",
    "def sql_fetch(con):\n",
    "    cursorObj = con.cursor()\n",
    "    cursorObj.execute('SELECT * FROM employees')\n",
    "    rows = cursorObj.fetchall()\n",
    "    for row in rows:\n",
    "        print(row)\n",
    "\n",
    "sql_fetch(con)"
   ]
  },
  {
   "cell_type": "markdown",
   "metadata": {},
   "source": [
    "You can also use the fetchall() in one line as follows:"
   ]
  },
  {
   "cell_type": "code",
   "execution_count": null,
   "metadata": {},
   "outputs": [],
   "source": [
    "con = sqlite3.connect('mydatabase.db')\n",
    "cursorObj = con.cursor()\n",
    "cursorObj.execute('SELECT * FROM employees')\n",
    "[print(row) for row in cursorObj.fetchall()]"
   ]
  },
  {
   "cell_type": "markdown",
   "metadata": {},
   "source": [
    "If you want to fetch specific data from the database, you can use the `WHERE` clause."
   ]
  },
  {
   "cell_type": "code",
   "execution_count": null,
   "metadata": {},
   "outputs": [],
   "source": [
    "con = sqlite3.connect('mydatabase.db')\n",
    "cursorObj = con.cursor()\n",
    "cursorObj.execute('SELECT * FROM employees WHERE salary > 750.0')\n",
    "[print(row) for row in cursorObj.fetchall()]"
   ]
  },
  {
   "cell_type": "markdown",
   "metadata": {},
   "source": [
    "# 09 SQLite3 rowcount"
   ]
  },
  {
   "cell_type": "markdown",
   "metadata": {},
   "source": [
    "The SQLite3 rowcount is used to return the number of rows that are affected or selected by the latest executed SQL query.\n",
    "\n",
    "When we use rowcount with the `SELECT` statement, `-1` will be returned as how many rows are selected is unknown until they are all fetched. Consider the example below:"
   ]
  },
  {
   "cell_type": "code",
   "execution_count": null,
   "metadata": {},
   "outputs": [],
   "source": [
    "print(cursorObj.execute('SELECT * FROM employees').rowcount)"
   ]
  },
  {
   "cell_type": "markdown",
   "metadata": {},
   "source": [
    "Therefore, to get the row count, you need to fetch all the data, and then get the length of the result:"
   ]
  },
  {
   "cell_type": "code",
   "execution_count": null,
   "metadata": {},
   "outputs": [],
   "source": [
    "rows = cursorObj.fetchall()\n",
    "\n",
    "print(len(rows))"
   ]
  },
  {
   "cell_type": "markdown",
   "metadata": {},
   "source": [
    "When the `DELETE` statement is used without any condition (a where clause), all the rows in the table will be deleted and the total number of deleted rows will be returned by `rowcount`.\n",
    "\n",
    "If no row is deleted `0` will be returned."
   ]
  },
  {
   "cell_type": "markdown",
   "metadata": {},
   "source": [
    "# 10 List tables"
   ]
  },
  {
   "cell_type": "markdown",
   "metadata": {},
   "source": [
    "To list all tables in a SQLite3 database, you should query `sqlite_master` table and then use the `fetchall()` to fetch the results from the SELECT statement.\n",
    "\n",
    "The `sqlite_master` is the master table in SQLite3 which stores all tables."
   ]
  },
  {
   "cell_type": "code",
   "execution_count": null,
   "metadata": {},
   "outputs": [],
   "source": [
    "import sqlite3\n",
    "\n",
    "con = sqlite3.connect('mydatabase.db')\n",
    "\n",
    "def sql_fetch(con):\n",
    "    cursorObj = con.cursor()\n",
    "    cursorObj.execute('SELECT name FROM sqlite_master WHERE  type= \"table\"')\n",
    "    print(cursorObj.fetchall())\n",
    "\n",
    "sql_fetch(con)"
   ]
  },
  {
   "cell_type": "markdown",
   "metadata": {},
   "source": [
    "# 11 Check if table exists or not"
   ]
  },
  {
   "cell_type": "markdown",
   "metadata": {},
   "source": [
    "When creating a table, we should make sure that the table is not already existed. Similarly, when removing/deleting a table, the table should exist.\n",
    "\n",
    "To check if the table doesn’t already exist we use `“if not exists”` with the `CREATE TABLE` statement as follows:\n",
    "``` mysql \n",
    "create table if not exists table_name (column1, column2, …, columnN)\n",
    "```"
   ]
  },
  {
   "cell_type": "code",
   "execution_count": null,
   "metadata": {},
   "outputs": [],
   "source": [
    "import sqlite3\n",
    "\n",
    "con = sqlite3.connect('mydatabase.db')\n",
    "\n",
    "def sql_fetch(con):\n",
    "    cursorObj = con.cursor()\n",
    "    cursorObj.execute('create table if not exists projects(id integer, name text)')\n",
    "    con.commit()\n",
    "\n",
    "sql_fetch(con)"
   ]
  },
  {
   "cell_type": "markdown",
   "metadata": {},
   "source": [
    "# 12 Drop table"
   ]
  },
  {
   "cell_type": "markdown",
   "metadata": {},
   "source": [
    "You can drop/delete a table using the `DROP` statement. The syntax of DROP statement is as follows:\n",
    "``` mysql\n",
    "DROP TABLE table_name\n",
    "```\n",
    "To drop a table, the table should exist in the database. Therefore, it is recommended to use “if exists” with the drop statement as follows:\n",
    "``` mysql\n",
    "DROP TABLE IF EXISTS table_name\n",
    "```\n",
    "For example,"
   ]
  },
  {
   "cell_type": "code",
   "execution_count": null,
   "metadata": {},
   "outputs": [],
   "source": [
    "import sqlite3\n",
    "\n",
    "con = sqlite3.connect('mydatabase.db')\n",
    "\n",
    "def sql_fetch(con):\n",
    "    cursorObj = con.cursor()\n",
    "    cursorObj.execute('DROP TABLE IF EXISTS employees')\n",
    "    con.commit()\n",
    "\n",
    "sql_fetch(con)"
   ]
  },
  {
   "cell_type": "markdown",
   "metadata": {},
   "source": [
    "# 13 SQLite3 Exceptions"
   ]
  },
  {
   "cell_type": "markdown",
   "metadata": {},
   "source": [
    "Exceptions are the run time errors. In Python programming, all exceptions are the instances of the class derived from the `BaseException`.\n",
    "\n",
    "In SQLite3, we have the following main Python exceptions:\n",
    "\n",
    "### DatabaseError\n",
    "Any error related to database raises the DatabaseError.\n",
    "\n",
    "### IntegrityError\n",
    "IntegrityError is a subclass of DatabaseError and is raised when there is a data integrity issue, for example,e foreign data isn’t updated in all tables resulting in the inconsistency of the data.\n",
    "\n",
    "### ProgrammingError\n",
    "The exception ProgrammingError raises when there are syntax errors or table is not found or function is called with the wrong number of parameters/ arguments.\n",
    "\n",
    "### OperationalError\n",
    "This exception is raised when the database operations are failed, for example, unusual disconnection. This is not the fault of the programmers.\n",
    "\n",
    "### NotSupportedError\n",
    "When you use some methods that aren’t defined or supported by database NotSupportedError exception is raised."
   ]
  },
  {
   "cell_type": "markdown",
   "metadata": {},
   "source": [
    "# 14 SQLite3 Executemany (Bulk insert)"
   ]
  },
  {
   "cell_type": "code",
   "execution_count": null,
   "metadata": {},
   "outputs": [],
   "source": [
    "import sqlite3\n",
    "\n",
    "con = sqlite3.connect('mydatabase.db')\n",
    "cursorObj = con.cursor()\n",
    "cursorObj.execute('CREATE TABLE IF NOT EXISTS projects(id integer, name text)')\n",
    "data = [(1, \"Ridesharing\"), (2, \"Water Purifying\"), (3, \"Forensics\"), (4, \"Botany\")]\n",
    "cursorObj.executemany(\"INSERT INTO projects VALUES(?, ?)\", data)\n",
    "con.commit()"
   ]
  },
  {
   "cell_type": "markdown",
   "metadata": {},
   "source": [
    "# 15 Close Connection"
   ]
  },
  {
   "cell_type": "code",
   "execution_count": null,
   "metadata": {},
   "outputs": [],
   "source": [
    "con = sqlite3.connect('mydatabase.db')\n",
    "\n",
    "con.close()"
   ]
  },
  {
   "cell_type": "markdown",
   "metadata": {},
   "source": [
    "# 16 SQLite3 datetime"
   ]
  },
  {
   "cell_type": "markdown",
   "metadata": {},
   "source": [
    "In Python SQLite3 database, we can easily store date or time by importing the datatime module. The following formats are the most commonly used formats for datetime:\n",
    "``` mysql\n",
    "YYYY-MM-DD\n",
    "\n",
    "YYYY-MM-DD HH:MM\n",
    "\n",
    "YYYY-MM-DD HH:MM:SS\n",
    "\n",
    "YYYY-MM-DD HH:MM:SS.SSS\n",
    "\n",
    "HH:MM\n",
    "\n",
    "HH:MM:SS\n",
    "\n",
    "HH:MM:SS.SSS\n",
    "\n",
    "now\n",
    "```"
   ]
  },
  {
   "cell_type": "code",
   "execution_count": null,
   "metadata": {},
   "outputs": [],
   "source": [
    "import sqlite3\n",
    "import datetime\n",
    "\n",
    "con = sqlite3.connect('mydatabase.db')\n",
    "cursorObj = con.cursor()\n",
    "cursorObj.execute('CREATE TABLE IF NOT EXISTS assignments(id integer, name text, date date)')\n",
    "data = [(1, \"Ridesharing\", datetime.date(2017, 1, 2)), \\\n",
    "        (2, \"Water Purifying\", datetime.date(2018, 3, 4))]\n",
    "cursorObj.executemany(\"INSERT INTO assignments VALUES(?, ?, ?)\", data)\n",
    "con.commit()"
   ]
  },
  {
   "cell_type": "code",
   "execution_count": 1,
   "metadata": {},
   "outputs": [],
   "source": [
    "import os\n",
    "os.remove(\"mydatabase.db\")"
   ]
  },
  {
   "cell_type": "code",
   "execution_count": null,
   "metadata": {},
   "outputs": [],
   "source": []
  }
 ],
 "metadata": {
  "kernelspec": {
   "display_name": "Python 3",
   "language": "python",
   "name": "python3"
  },
  "language_info": {
   "codemirror_mode": {
    "name": "ipython",
    "version": 3
   },
   "file_extension": ".py",
   "mimetype": "text/x-python",
   "name": "python",
   "nbconvert_exporter": "python",
   "pygments_lexer": "ipython3",
   "version": "3.7.7"
  }
 },
 "nbformat": 4,
 "nbformat_minor": 4
}
