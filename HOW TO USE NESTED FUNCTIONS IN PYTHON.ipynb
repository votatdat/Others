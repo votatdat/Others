{
 "cells": [
  {
   "cell_type": "markdown",
   "metadata": {},
   "source": [
    "Link gốc: https://manhhomienbienthuy.bitbucket.io/2017/Dec/25/python-how-to-use-nested-functions.html"
   ]
  },
  {
   "cell_type": "markdown",
   "metadata": {},
   "source": [
    "Như chúng ta đã biết, trong Python, hàm cũng là đối tượng, hơn nữa, nó còn là đối tượng first-class. Nhờ đó, chúng ta có thể thao tác với hàm như mọi đối tượng khác. Chúng ta có thể tạo ra hàm, xoá bỏ nó, gán cho biến, truyền làm tham số, v.v...\n",
    "<br/><br/>Cũng vì hàm là đối tượng first-class, nên nó có thể được định nghĩa bên trong một hàm khác (hàm lồng nhau). Một ứng dụng của việc này là sử dụng hàm lồng nhau để tạo ra các **decorator**.\n",
    "<br/><br/>Trong bài viết này, chúng ta sẽ tìm hiểu những ứng dụng khác nữa của việc sử dụng hàm lồng nhau trong Python."
   ]
  },
  {
   "cell_type": "markdown",
   "metadata": {},
   "source": [
    "## Đơn giản hoá thuật toán"
   ]
  },
  {
   "cell_type": "markdown",
   "metadata": {},
   "source": [
    "Đây là một trong những ứng dụng quan trọng nhất của chương trình con, và hàm chính là một chương trình con như vậy. Chương trình con nói chung là hàm nói riêng giúp chúng ta lập trình có cấu trúc.\n",
    "<br/><br/>Thuật toán để giải các bài toán sẽ trở nên đơn giản hơn do bài toán lớn được chia thành các bài toán con, mỗi bài toán con được giải trong một hàm. Mỗi bài toán con lại có thể chia nhỏ hơn nữa tuỳ độ phức tạp, quá trình \"làm mịn\" này diễn ra đến mức nào thì tuỳ vào lập trình viên.\n",
    "<br/><br/>Ngoài ra, những bài toán con này lại có thể tái sử dụng ở những bài toán lớn hơn. Không như ngôn ngữ C, các hàm hoàn toàn ngang hàng với nhau, hàm trong Python có thể lồng nhau, giúp chúng ta làm mịn bài toán dễ dàng hơn rất nhiều.\n",
    "<br/><br/>Dưới đây là một ví dụ \"minh hoạ\" cho việc sử dụng hàm lồng nhau để đơn giản hoá thuật toán."
   ]
  },
  {
   "cell_type": "code",
   "execution_count": 4,
   "metadata": {},
   "outputs": [
    {
     "data": {
      "text/plain": [
       "270"
      ]
     },
     "execution_count": 4,
     "metadata": {},
     "output_type": "execute_result"
    }
   ],
   "source": [
    "def f(a, b, c):\n",
    "    l = 0\n",
    "    for x in a:\n",
    "        l += x\n",
    "        #print('in a:', l)\n",
    "    for x in b:\n",
    "        l += 2*x\n",
    "        #print('in b:', l)\n",
    "    for x in c:\n",
    "        l  += 3*x\n",
    "        #print('in c:', l)\n",
    "    return l\n",
    "\n",
    "f(range(0, 10), range(0, 10), range(0, 10))"
   ]
  },
  {
   "cell_type": "markdown",
   "metadata": {},
   "source": [
    "Đây là một ví khá đơn giản. Hàm f nhận vào 3 list, sau đó tính một tổng theo quy luật cho trước. Quy luật đã được thể hiện trong code rồi, cũng không có gì khó hiểu cả.\n",
    "<br/><br/>Code trên đây chạy tốt, tuy nhiên nó rất xấu. Dưới đây là một phiên bản đẹp hơn, sử dụng hàm lồng nhau."
   ]
  },
  {
   "cell_type": "code",
   "execution_count": 5,
   "metadata": {},
   "outputs": [
    {
     "data": {
      "text/plain": [
       "270"
      ]
     },
     "execution_count": 5,
     "metadata": {},
     "output_type": "execute_result"
    }
   ],
   "source": [
    "def f(a, b, c):\n",
    "    l = 0\n",
    "    def inner(l, m = 1):\n",
    "        return sum(x*m for x in l)\n",
    "    l += inner(a, 1)\n",
    "    l += inner(b, 2)\n",
    "    l += inner(c, 3)\n",
    "    return l\n",
    "\n",
    "f(range(0, 10), range(0, 10), range(0, 10))"
   ]
  },
  {
   "cell_type": "markdown",
   "metadata": {},
   "source": [
    "Rất dễ nhận ra, bằng cách sử dụng một hàm con inner, chúng ta đã gom những công việc tương tự nhau vào một chỗ. Code không ngắn đi nhiều lắm, nhưng rõ ràng là mạch lạc hơn rất nhiều. Sử dụng hàm lồng nhau trong trường hợp này rõ ràng là phát huy tác dụng rất đúng lúc.\n",
    "<br/><br/>Không sử dụng hàm lồng nhau có được không? Câu trả lời là được, chúng ta có thể định nghĩa một hàm khác ngang hàng với hàm f, tuy nhiên trong trường hợp này, hàm con bên trong sẽ tốt hơn. Còn tại sao nó tốt hơn, chúng ta sẽ tìm hiểu tiếp ở những phần tiếp theo.\n",
    "<br/><br/>Chúng ta có thể rút ngắn code hơn nữa bằng cách sử dụng **lambda** như dưới đây."
   ]
  },
  {
   "cell_type": "code",
   "execution_count": 6,
   "metadata": {},
   "outputs": [
    {
     "data": {
      "text/plain": [
       "270"
      ]
     },
     "execution_count": 6,
     "metadata": {},
     "output_type": "execute_result"
    }
   ],
   "source": [
    "def f(a, b,c):\n",
    "    l = 0\n",
    "    inner = lambda l, m: sum(x*m for x in l)\n",
    "    l += inner(a, 1)\n",
    "    l += inner(b, 2)\n",
    "    l += inner(c, 3)\n",
    "    return l\n",
    "\n",
    "f(range(0, 10), range(0, 10), range(0, 10))"
   ]
  },
  {
   "cell_type": "markdown",
   "metadata": {},
   "source": [
    "Trong trường hợp này, lambda cũng là một hàm, hàm đó trả về giá trị thông qua một biểu thức duy nhất. Ví dụ, hai đoạn code dưới đây cho chúng ta cùng một kết quả:"
   ]
  },
  {
   "cell_type": "code",
   "execution_count": 7,
   "metadata": {},
   "outputs": [
    {
     "data": {
      "text/plain": [
       "2"
      ]
     },
     "execution_count": 7,
     "metadata": {},
     "output_type": "execute_result"
    }
   ],
   "source": [
    "f = lambda x: x + 1\n",
    "f(1)"
   ]
  },
  {
   "cell_type": "code",
   "execution_count": 8,
   "metadata": {},
   "outputs": [
    {
     "data": {
      "text/plain": [
       "2"
      ]
     },
     "execution_count": 8,
     "metadata": {},
     "output_type": "execute_result"
    }
   ],
   "source": [
    "def f(x):\n",
    "    return x + 1\n",
    "\n",
    "f(1)"
   ]
  },
  {
   "cell_type": "markdown",
   "metadata": {},
   "source": [
    "Thực ra dùng lambda cho chúng ta kết quả không đáng kể lắm (code chỉ ngắn hơn có 1 dòng). Hơn nữa, trong trường hợp phức tạp, dùng hàm vẫn tốt hơn."
   ]
  },
  {
   "cell_type": "markdown",
   "metadata": {},
   "source": [
    "##  Truyền hàm làm tham số"
   ]
  },
  {
   "cell_type": "markdown",
   "metadata": {},
   "source": [
    "Việc truyền hàm vào một hàm khác nhiều khi rất quan trọng, đặc biệt là khi bạn lập trình kiểu generic, cho phép hàm hoạt động theo nhiều cách khác nhau, tuỳ vào tham số được truyền.\n",
    "<br/><br/>Một ví dụ kinh điển cho trường hợp này là bài toán sắp xếp. Sắp xếp là một công việc thường xuyên trong lập trình, và nếu có thể lập trình generic các hàm sắp xếp thì còn gì bằng.\n",
    "<br/><br/>Ứng dụng của việc truyền hàm làm tham số trong trường hợp này là, chúng ta có thể nhận tham số là một hàm so sánh, hàm sẽ trả về -1, 0, 1 khi so sánh hai phần tử với nhau. Bằng cách này, hàm sắp xếp không cần quan tâm đến cách so sánh dữ liệu, còn người lập trình, chỉ cần tuỳ biến nó là có thể nhận được kết quả sắp xếp theo nhiều cách khác nhau, với nhiều kiểu dữ liệu khác nhau.\n",
    "<br/><br/>Ví dụ, chúng ta cần sắp xếp dữ liệu nhân sự dựa trên tên của họ. Chúng ta có thể sắp xếp theo tên như sau:"
   ]
  },
  {
   "cell_type": "code",
   "execution_count": 11,
   "metadata": {},
   "outputs": [
    {
     "data": {
      "text/plain": [
       "[(1, {'firstname': 'Aswathy', 'lastname': 'Govind'}),\n",
       " (2, {'firstname': 'Celine', 'lastname': 'Adams'}),\n",
       " (3, {'firstname': 'John', 'lastname': 'Joseph'}),\n",
       " (4, {'firstname': 'Paul', 'lastname': 'Johnson'})]"
      ]
     },
     "execution_count": 11,
     "metadata": {},
     "output_type": "execute_result"
    }
   ],
   "source": [
    "employees = [\n",
    "    {'firstname': 'John', 'lastname': 'Joseph'},\n",
    "    {'firstname': 'Celine', 'lastname': 'Adams'},\n",
    "    {'firstname': 'Paul', 'lastname': 'Johnson'},\n",
    "    {'firstname': 'Aswathy', 'lastname': 'Govind'},\n",
    "]\n",
    "\n",
    "def order(names):\n",
    "    def inner(item):\n",
    "        return item['firstname']\n",
    "    sl = zip(range(1,10), sorted(names, key=inner))\n",
    "    return list(sl)\n",
    "\n",
    "order(employees)"
   ]
  },
  {
   "cell_type": "markdown",
   "metadata": {},
   "source": [
    "Bây giờ, giả sử yêu cầu thay đổi, chúng ta cần sắp xếp theo họ chứ không phải tên, rất đơn giản, chỉ cần thay đổi một chút hàm con truyền vào sorted là xong:"
   ]
  },
  {
   "cell_type": "code",
   "execution_count": 13,
   "metadata": {},
   "outputs": [
    {
     "data": {
      "text/plain": [
       "[(1, {'firstname': 'Celine', 'lastname': 'Adams'}),\n",
       " (2, {'firstname': 'Aswathy', 'lastname': 'Govind'}),\n",
       " (3, {'firstname': 'Paul', 'lastname': 'Johnson'}),\n",
       " (4, {'firstname': 'John', 'lastname': 'Joseph'})]"
      ]
     },
     "execution_count": 13,
     "metadata": {},
     "output_type": "execute_result"
    }
   ],
   "source": [
    "def order2(names):\n",
    "    def inner(item):\n",
    "        return item['lastname']\n",
    "    sl = zip(range(1,10), sorted(names, key=inner))\n",
    "    return list(sl)\n",
    "\n",
    "order2(employees)"
   ]
  },
  {
   "cell_type": "markdown",
   "metadata": {},
   "source": [
    "Chúng ta đã vận dụng hàm lồng nhau để thay đổi phương pháp sắp xếp, tuỳ theo yêu cầu (theo firstname hay lastname). Sau này, khi bài toán mở rộng, chúng ta cũng không cần phải thay đổi quá nhiều code.\n",
    "<br/><br/>Tương tự như trường hợp trên, trong trường hợp này, chúng ta vẫn nên sử dụng hàm lồng nhau thay vì dùng các hàm độc lập."
   ]
  },
  {
   "cell_type": "markdown",
   "metadata": {},
   "source": [
    "## Tạo hàm động"
   ]
  },
  {
   "cell_type": "markdown",
   "metadata": {},
   "source": [
    "Bởi vì hàm là đối tượng first-class, chúng ta có thể tạo ra hàm mới và trả về hàm trong một hàm khác. Bằng cách này, chúng ta có thể tạo ra các hàm real time theo nhu cầu.\n",
    "<br/><br/>Trong ví dụ dưới đây, chúng ta có thể sử dụng hàm lồng nhau để tạo ra các hàm luỹ thừa theo nhu cầu. Thay vì phải định nghĩa các hàm như thế này:"
   ]
  },
  {
   "cell_type": "code",
   "execution_count": 15,
   "metadata": {},
   "outputs": [
    {
     "name": "stdout",
     "output_type": "stream",
     "text": [
      "4\n",
      "27\n"
     ]
    }
   ],
   "source": [
    "def square(x):\n",
    "    return x ** 2\n",
    "\n",
    "def cube(x):\n",
    "    return x ** 3\n",
    "\n",
    "print(square(2))\n",
    "print(cube(3))"
   ]
  },
  {
   "cell_type": "markdown",
   "metadata": {},
   "source": [
    "Chúng ta có thể dùng cách tạo hàm động như sau, trông \"thông minh\" hơn rất nhiều:"
   ]
  },
  {
   "cell_type": "code",
   "execution_count": 16,
   "metadata": {},
   "outputs": [
    {
     "data": {
      "text/plain": [
       "9"
      ]
     },
     "execution_count": 16,
     "metadata": {},
     "output_type": "execute_result"
    }
   ],
   "source": [
    "def fpower(exp):\n",
    "    def inner(x):\n",
    "        return x ** exp\n",
    "    return inner\n",
    "\n",
    "square = fpower(2)\n",
    "square(3)"
   ]
  },
  {
   "cell_type": "code",
   "execution_count": 17,
   "metadata": {},
   "outputs": [
    {
     "data": {
      "text/plain": [
       "125"
      ]
     },
     "execution_count": 17,
     "metadata": {},
     "output_type": "execute_result"
    }
   ],
   "source": [
    "cube = fpower(3)\n",
    "cube(5)"
   ]
  },
  {
   "cell_type": "code",
   "execution_count": 18,
   "metadata": {},
   "outputs": [
    {
     "data": {
      "text/plain": [
       "256"
      ]
     },
     "execution_count": 18,
     "metadata": {},
     "output_type": "execute_result"
    }
   ],
   "source": [
    "quartic = fpower(4)\n",
    "quartic(4)"
   ]
  },
  {
   "cell_type": "code",
   "execution_count": 19,
   "metadata": {},
   "outputs": [
    {
     "data": {
      "text/plain": [
       "3125"
      ]
     },
     "execution_count": 19,
     "metadata": {},
     "output_type": "execute_result"
    }
   ],
   "source": [
    "quintic = fpower(5)\n",
    "quintic(5)"
   ]
  },
  {
   "cell_type": "markdown",
   "metadata": {},
   "source": [
    "Một lợi ích của việc này là chúng ta có thể dễ dàng tạo ra các hàm luỹ thừa bao nhiêu tuỳ ý."
   ]
  },
  {
   "cell_type": "markdown",
   "metadata": {},
   "source": [
    "##  Đóng gói"
   ]
  },
  {
   "cell_type": "markdown",
   "metadata": {},
   "source": [
    "Hàm lồng nhau có một kết quả rất hay là chúng được bảo vệ khỏi sự ảnh hưởng từ bên ngoài. Hàm con bên trong một hàm khác là vô hình với thế giới. Chúng ta hãy xem xét ví dụ sau:"
   ]
  },
  {
   "cell_type": "code",
   "execution_count": 22,
   "metadata": {},
   "outputs": [],
   "source": [
    "def outer(num1):\n",
    "    def inner(num1):\n",
    "        return num1 + 1\n",
    "    num2 = inner(num1)\n",
    "    print(num1, num2)"
   ]
  },
  {
   "cell_type": "markdown",
   "metadata": {},
   "source": [
    "Nếu chúng ta gọi hàm inner thì sẽ nhận được kết quả thế này:"
   ]
  },
  {
   "cell_type": "code",
   "execution_count": 23,
   "metadata": {},
   "outputs": [
    {
     "ename": "NameError",
     "evalue": "name 'inner' is not defined",
     "output_type": "error",
     "traceback": [
      "\u001b[1;31m---------------------------------------------------------------------------\u001b[0m",
      "\u001b[1;31mNameError\u001b[0m                                 Traceback (most recent call last)",
      "\u001b[1;32m<ipython-input-23-cd85ef7e0184>\u001b[0m in \u001b[0;36m<module>\u001b[1;34m\u001b[0m\n\u001b[1;32m----> 1\u001b[1;33m \u001b[0minner\u001b[0m\u001b[1;33m(\u001b[0m\u001b[1;36m1\u001b[0m\u001b[1;33m)\u001b[0m\u001b[1;33m\u001b[0m\u001b[1;33m\u001b[0m\u001b[0m\n\u001b[0m",
      "\u001b[1;31mNameError\u001b[0m: name 'inner' is not defined"
     ]
    }
   ],
   "source": [
    "inner(1)"
   ]
  },
  {
   "cell_type": "markdown",
   "metadata": {},
   "source": [
    "Ở đây, chúng ta chỉ có thể gọi hàm outer được định nghĩa bên ngoài mà thôi."
   ]
  },
  {
   "cell_type": "code",
   "execution_count": 24,
   "metadata": {},
   "outputs": [
    {
     "name": "stdout",
     "output_type": "stream",
     "text": [
      "1 2\n"
     ]
    }
   ],
   "source": [
    "outer(1)"
   ]
  },
  {
   "cell_type": "markdown",
   "metadata": {},
   "source": [
    "Như vậy, hàm con được định nghĩa trong một hàm khác hoàn toàn cách ly với bên ngoài. Tính chất này là tốt hay xấu hoàn toàn phụ thuộc vào cách chúng ta dùng nó như thế nào. Trong ví dụ dưới đây, chúng ta sẽ lợi dụng tính chất này một cách hữu ích:"
   ]
  },
  {
   "cell_type": "code",
   "execution_count": 26,
   "metadata": {},
   "outputs": [],
   "source": [
    "def factorial(number):\n",
    "    if not isinstance(number, int):\n",
    "        raise TypeError(\"Sorry. 'number' must be an integer.\")\n",
    "    if number < 0:\n",
    "        raise ValueError(\"Sorry. 'number' must be zero or positive.\")\n",
    "    \n",
    "    def inner(number):\n",
    "        if number <= 1:\n",
    "            return 1\n",
    "        return number * inner(number - 1)\n",
    "    \n",
    "    return inner(number)"
   ]
  },
  {
   "cell_type": "code",
   "execution_count": 27,
   "metadata": {},
   "outputs": [
    {
     "data": {
      "text/plain": [
       "3628800"
      ]
     },
     "execution_count": 27,
     "metadata": {},
     "output_type": "execute_result"
    }
   ],
   "source": [
    "factorial(10)"
   ]
  },
  {
   "cell_type": "code",
   "execution_count": 28,
   "metadata": {},
   "outputs": [
    {
     "ename": "ValueError",
     "evalue": "Sorry. 'number' must be zero or positive.",
     "output_type": "error",
     "traceback": [
      "\u001b[1;31m---------------------------------------------------------------------------\u001b[0m",
      "\u001b[1;31mValueError\u001b[0m                                Traceback (most recent call last)",
      "\u001b[1;32m<ipython-input-28-5aae425d6a8b>\u001b[0m in \u001b[0;36m<module>\u001b[1;34m\u001b[0m\n\u001b[1;32m----> 1\u001b[1;33m \u001b[0mfactorial\u001b[0m\u001b[1;33m(\u001b[0m\u001b[1;33m-\u001b[0m\u001b[1;36m1\u001b[0m\u001b[1;33m)\u001b[0m\u001b[1;33m\u001b[0m\u001b[1;33m\u001b[0m\u001b[0m\n\u001b[0m",
      "\u001b[1;32m<ipython-input-26-005e3e28e868>\u001b[0m in \u001b[0;36mfactorial\u001b[1;34m(number)\u001b[0m\n\u001b[0;32m      3\u001b[0m         \u001b[1;32mraise\u001b[0m \u001b[0mTypeError\u001b[0m\u001b[1;33m(\u001b[0m\u001b[1;34m\"Sorry. 'number' must be an integer.\"\u001b[0m\u001b[1;33m)\u001b[0m\u001b[1;33m\u001b[0m\u001b[1;33m\u001b[0m\u001b[0m\n\u001b[0;32m      4\u001b[0m     \u001b[1;32mif\u001b[0m \u001b[0mnumber\u001b[0m \u001b[1;33m<\u001b[0m \u001b[1;36m0\u001b[0m\u001b[1;33m:\u001b[0m\u001b[1;33m\u001b[0m\u001b[1;33m\u001b[0m\u001b[0m\n\u001b[1;32m----> 5\u001b[1;33m         \u001b[1;32mraise\u001b[0m \u001b[0mValueError\u001b[0m\u001b[1;33m(\u001b[0m\u001b[1;34m\"Sorry. 'number' must be zero or positive.\"\u001b[0m\u001b[1;33m)\u001b[0m\u001b[1;33m\u001b[0m\u001b[1;33m\u001b[0m\u001b[0m\n\u001b[0m\u001b[0;32m      6\u001b[0m \u001b[1;33m\u001b[0m\u001b[0m\n\u001b[0;32m      7\u001b[0m     \u001b[1;32mdef\u001b[0m \u001b[0minner\u001b[0m\u001b[1;33m(\u001b[0m\u001b[0mnumber\u001b[0m\u001b[1;33m)\u001b[0m\u001b[1;33m:\u001b[0m\u001b[1;33m\u001b[0m\u001b[1;33m\u001b[0m\u001b[0m\n",
      "\u001b[1;31mValueError\u001b[0m: Sorry. 'number' must be zero or positive."
     ]
    }
   ],
   "source": [
    "factorial(-1)"
   ]
  },
  {
   "cell_type": "code",
   "execution_count": 29,
   "metadata": {},
   "outputs": [
    {
     "ename": "TypeError",
     "evalue": "Sorry. 'number' must be an integer.",
     "output_type": "error",
     "traceback": [
      "\u001b[1;31m---------------------------------------------------------------------------\u001b[0m",
      "\u001b[1;31mTypeError\u001b[0m                                 Traceback (most recent call last)",
      "\u001b[1;32m<ipython-input-29-72d700bc68a7>\u001b[0m in \u001b[0;36m<module>\u001b[1;34m\u001b[0m\n\u001b[1;32m----> 1\u001b[1;33m \u001b[0mfactorial\u001b[0m\u001b[1;33m(\u001b[0m\u001b[1;36m1\u001b[0m\u001b[1;33m/\u001b[0m\u001b[1;36m5\u001b[0m\u001b[1;33m)\u001b[0m\u001b[1;33m\u001b[0m\u001b[1;33m\u001b[0m\u001b[0m\n\u001b[0m",
      "\u001b[1;32m<ipython-input-26-005e3e28e868>\u001b[0m in \u001b[0;36mfactorial\u001b[1;34m(number)\u001b[0m\n\u001b[0;32m      1\u001b[0m \u001b[1;32mdef\u001b[0m \u001b[0mfactorial\u001b[0m\u001b[1;33m(\u001b[0m\u001b[0mnumber\u001b[0m\u001b[1;33m)\u001b[0m\u001b[1;33m:\u001b[0m\u001b[1;33m\u001b[0m\u001b[1;33m\u001b[0m\u001b[0m\n\u001b[0;32m      2\u001b[0m     \u001b[1;32mif\u001b[0m \u001b[1;32mnot\u001b[0m \u001b[0misinstance\u001b[0m\u001b[1;33m(\u001b[0m\u001b[0mnumber\u001b[0m\u001b[1;33m,\u001b[0m \u001b[0mint\u001b[0m\u001b[1;33m)\u001b[0m\u001b[1;33m:\u001b[0m\u001b[1;33m\u001b[0m\u001b[1;33m\u001b[0m\u001b[0m\n\u001b[1;32m----> 3\u001b[1;33m         \u001b[1;32mraise\u001b[0m \u001b[0mTypeError\u001b[0m\u001b[1;33m(\u001b[0m\u001b[1;34m\"Sorry. 'number' must be an integer.\"\u001b[0m\u001b[1;33m)\u001b[0m\u001b[1;33m\u001b[0m\u001b[1;33m\u001b[0m\u001b[0m\n\u001b[0m\u001b[0;32m      4\u001b[0m     \u001b[1;32mif\u001b[0m \u001b[0mnumber\u001b[0m \u001b[1;33m<\u001b[0m \u001b[1;36m0\u001b[0m\u001b[1;33m:\u001b[0m\u001b[1;33m\u001b[0m\u001b[1;33m\u001b[0m\u001b[0m\n\u001b[0;32m      5\u001b[0m         \u001b[1;32mraise\u001b[0m \u001b[0mValueError\u001b[0m\u001b[1;33m(\u001b[0m\u001b[1;34m\"Sorry. 'number' must be zero or positive.\"\u001b[0m\u001b[1;33m)\u001b[0m\u001b[1;33m\u001b[0m\u001b[1;33m\u001b[0m\u001b[0m\n",
      "\u001b[1;31mTypeError\u001b[0m: Sorry. 'number' must be an integer."
     ]
    }
   ],
   "source": [
    "factorial(1/5)"
   ]
  },
  {
   "cell_type": "markdown",
   "metadata": {},
   "source": [
    "Bằng cách sử dụng hàm lồng nhau, chúng ta có thể định nghĩa một hàm nhận bất cứ đầu vào nào, việc kiểm tra đầu vào này hoàn toàn thực hiện bên trong hàm. Chúng ta không cần phải kiểm tra đầu vào trước khi gọi hàm factorial. Việc sử dụng hàm lồng nhau cho mục đích này đặc biệt phát huy tác dụng của nó khi chúng ta cần đến đệ quy, khi đó chúng ta cần thực hiện một số kiểm tra tham số trước khi thực sự gọi đệ quy."
   ]
  },
  {
   "cell_type": "markdown",
   "metadata": {},
   "source": [
    "## Tránh lặp code (DRY)"
   ]
  },
  {
   "cell_type": "markdown",
   "metadata": {},
   "source": [
    "Nhiều khi có những phần code được lặp đi lặp lại và chúng ta nên định nghĩa hàm cho nó để có thể gọi được nhiều lần. Khác với phần trước, việc định nghĩa hàm này không giúp ích gì được thuật toán hay cấu trúc chương trình, nó chỉ đơn giản là tránh lặp code mà thôi.\n",
    "<br/><br/>Ví dụ, trong trường hợp dưới đây, chúng ta cần thao tác xử lý với dữ liệu được ghi trong file. Hàm có thể nhận đầu vào là tên file hoặc một đối tượng File đã được mở."
   ]
  },
  {
   "cell_type": "code",
   "execution_count": 30,
   "metadata": {},
   "outputs": [],
   "source": [
    "def process(file):\n",
    "    def do_something(processing_file):\n",
    "        for line in processing_file:\n",
    "            print(line)\n",
    "        if isinstance(file, str):\n",
    "            with open(file, 'r') as f:\n",
    "                do_something(f)\n",
    "        else:\n",
    "            do_something(file)"
   ]
  },
  {
   "cell_type": "markdown",
   "metadata": {},
   "source": [
    "Tất nhiên, trong trường hợp này chúng ta có thể định nghĩa hàm do_something ở bên ngoài, ngang hàng với hàm process cũng không vấn đề gì. Tuy nhiên, chúng ta nên sử dụng hàm lồng nhau bởi vì tính đóng gói của nó. Chương trình bên ngoài không cần biết đến sự tồn tại của do_something."
   ]
  },
  {
   "cell_type": "markdown",
   "metadata": {},
   "source": [
    "## Closures \n",
    "Closure chính là ứng dụng quan trọng nhất của hàm lồng nhau. Xem lại những ứng dụng trên đây, chúng ta thấy rằng, dùng hàm lồng nhau cho kết quả tốt hơn nhưng điều đó là không bắt buộc. Chúng ta vẫn có thể định nghĩa các hàm ngang hàng với nhau mà chương trình cũng không thay đổi gì nhiều. Nhưng với closure, chúng ta bắt buộc phải sử dụng đến hàm lồng nhau."
   ]
  },
  {
   "cell_type": "markdown",
   "metadata": {},
   "source": [
    "### Closure là gì"
   ]
  },
  {
   "cell_type": "markdown",
   "metadata": {},
   "source": [
    "Closure có thể hiểu là những hàm ghi nhớ \"môi trường\" nơi mà nó tạo ra. Môi trường được ghi nhớ này sẽ được sử dụng khi hàm được gọi. Thông thường, closure được tạo ra bởi hàm lồng nhau."
   ]
  },
  {
   "cell_type": "code",
   "execution_count": 31,
   "metadata": {},
   "outputs": [
    {
     "name": "stdout",
     "output_type": "stream",
     "text": [
      "Foo!\n"
     ]
    }
   ],
   "source": [
    "def make_printer(msg):\n",
    "    def printer(msg=msg):\n",
    "        print(msg)\n",
    "    return printer\n",
    "\n",
    "printer = make_printer(\"Foo!\")\n",
    "printer()"
   ]
  },
  {
   "cell_type": "markdown",
   "metadata": {},
   "source": [
    "Ở đây, chúng ta sử dụng msg cục bộ làm giá trị mặc định của tham số trong hàm con. Vì vậy, không có việc tham chiếu đến giá trị cục bộ này nữa sau khi make_printer kết thúc. Giá trị msg giờ đây chỉ đơn giản là một giá trị được gán khi printer được định nghĩa mà thôi, mà rõ ràng hàm không hề \"ghi nhớ\" bất cứ điều gì về môi trường của nó cả."
   ]
  },
  {
   "cell_type": "markdown",
   "metadata": {},
   "source": [
    "### Closure có tác dụng gì"
   ]
  },
  {
   "cell_type": "markdown",
   "metadata": {},
   "source": [
    "Closure có thể phòng tránh được việc sử dụng biến cục bộ mà có thể đóng gói các hàm. Điều này giúp chúng ta lập trình thủ tục nhưng có thể tạo ra các hàm có nhiều tính chất của lập trình hướng đối tượng.\n",
    "<br/><br/>Khi chúng ta cần định nghĩa một class với chỉ vài phương thức, closure có thể được sử dụng như một giải pháp thay thế và thường là closure sẽ nhẹ nhàng hơn lập trình hướng đối tượng. Tuy nhiên là khi các thuộc tính và phương thức nhiều nên, chúng ta nên sử dụng lập trình hướng đối tượng thì hơn.\n",
    "<br/><br/>Một ví dụ về sử dụng closure đã được đưa ra ở trên, chúng ta sử dụng closure để định nghĩa các hàm động. Trong trường hợp này, sử dụng phương pháp lập trình hướng đối tượng có vẻ không phải là một giải pháp hay cho lắm."
   ]
  },
  {
   "cell_type": "code",
   "execution_count": 32,
   "metadata": {},
   "outputs": [
    {
     "data": {
      "text/plain": [
       "4"
      ]
     },
     "execution_count": 32,
     "metadata": {},
     "output_type": "execute_result"
    }
   ],
   "source": [
    "def fpower(exp):\n",
    "    def inner(x):\n",
    "        return x ** exp\n",
    "    return inner\n",
    "\n",
    "square = fpower(2)\n",
    "square(2)"
   ]
  },
  {
   "cell_type": "code",
   "execution_count": 33,
   "metadata": {},
   "outputs": [
    {
     "data": {
      "text/plain": [
       "125"
      ]
     },
     "execution_count": 33,
     "metadata": {},
     "output_type": "execute_result"
    }
   ],
   "source": [
    "cube = fpower(3)\n",
    "cube(5)"
   ]
  },
  {
   "cell_type": "markdown",
   "metadata": {},
   "source": [
    "### Ví dụ thực tế \n",
    "Trong thực tế, closure nói riêng mà hàm lồng nhau nói chung của Python được sử dụng rất phổ biến. Dưới đây là một ứng dụng của closure trong việc login/logout cũng như authorize cho một ứng dụng Web viết bằng CherryPy."
   ]
  },
  {
   "cell_type": "code",
   "execution_count": 36,
   "metadata": {},
   "outputs": [],
   "source": [
    "#!python\n",
    "# -*- encoding: UTF-8 -*-\n",
    "#\n",
    "# Form based authentication for CherryPy. Requires the\n",
    "# Session tool to be loaded.\n",
    "#\n",
    "\n",
    "import cherrypy\n",
    "\n",
    "SESSION_KEY = '_cp_username'\n",
    "\n",
    "def check_credentials(username, password):\n",
    "    \"\"\"Verifies credentials for username and password.\n",
    "    Returns None on success or a string describing the error on failure\"\"\"\n",
    "    # Adapt to your needs\n",
    "    if username in ('joe', 'steve') and password == 'secret':\n",
    "        return None\n",
    "    else:\n",
    "        return u\"Incorrect username or password.\"\n",
    "\n",
    "    # An example implementation which uses an ORM could be:\n",
    "    # u = User.get(username)\n",
    "    # if u is None:\n",
    "    #     return u\"Username %s is unknown to me.\" % username\n",
    "    # if u.password != md5.new(password).hexdigest():\n",
    "    #     return u\"Incorrect password\"\n",
    "\n",
    "def check_auth(*args, **kwargs):\n",
    "    \"\"\"A tool that looks in config for 'auth.require'. If found and it\n",
    "    is not None, a login is required and the entry is evaluated as a list of\n",
    "    conditions that the user must fulfill\"\"\"\n",
    "    conditions = cherrypy.request.config.get('auth.require', None)\n",
    "    if conditions is not None:\n",
    "        username = cherrypy.session.get(SESSION_KEY)\n",
    "        if username:\n",
    "            cherrypy.request.login = username\n",
    "            for condition in conditions:\n",
    "                # A condition is just a callable that returns true or false\n",
    "                if not condition():\n",
    "                    raise cherrypy.HTTPRedirect(\"/auth/login\")\n",
    "        else:\n",
    "            raise cherrypy.HTTPRedirect(\"/auth/login\")\n",
    "\n",
    "cherrypy.tools.auth = cherrypy.Tool('before_handler', check_auth)\n",
    "\n",
    "def require(*conditions):\n",
    "    \"\"\"A decorator that appends conditions to the auth.require config\n",
    "    variable.\"\"\"\n",
    "    def decorate(f):\n",
    "        if not hasattr(f, '_cp_config'):\n",
    "            f._cp_config = dict()\n",
    "        if 'auth.require' not in f._cp_config:\n",
    "            f._cp_config['auth.require'] = []\n",
    "        f._cp_config['auth.require'].extend(conditions)\n",
    "        return f\n",
    "    return decorate\n",
    "\n",
    "\n",
    "# Conditions are callables that return True\n",
    "# if the user fulfills the conditions they define, False otherwise\n",
    "#\n",
    "# They can access the current username as cherrypy.request.login\n",
    "#\n",
    "# Define those at will however suits the application.\n",
    "\n",
    "def member_of(groupname):\n",
    "    def check():\n",
    "        # replace with actual check if <username> is in <groupname>\n",
    "        return cherrypy.request.login == 'joe' and groupname == 'admin'\n",
    "    return check\n",
    "\n",
    "def name_is(reqd_username):\n",
    "    return lambda: reqd_username == cherrypy.request.login\n",
    "\n",
    "# These might be handy\n",
    "\n",
    "def any_of(*conditions):\n",
    "    \"\"\"Returns True if any of the conditions match\"\"\"\n",
    "    def check():\n",
    "        for c in conditions:\n",
    "            if c():\n",
    "                return True\n",
    "        return False\n",
    "    return check\n",
    "\n",
    "# By default all conditions are required, but this might still be\n",
    "# needed if you want to use it inside of an any_of(...) condition\n",
    "def all_of(*conditions):\n",
    "    \"\"\"Returns True if all of the conditions match\"\"\"\n",
    "    def check():\n",
    "        for c in conditions:\n",
    "            if not c():\n",
    "                return False\n",
    "        return True\n",
    "    return check\n",
    "\n",
    "\n",
    "# Controller to provide login and logout actions\n",
    "\n",
    "class AuthController(object):\n",
    "\n",
    "    def on_login(self, username):\n",
    "        \"\"\"Called on successful login\"\"\"\n",
    "\n",
    "    def on_logout(self, username):\n",
    "        \"\"\"Called on logout\"\"\"\n",
    "\n",
    "    def get_loginform(self, username, msg=\"Enter login information\", from_page=\"/\"):\n",
    "        return \"\"\"<html><body>\n",
    "            <form method=\"post\" action=\"/auth/login\">\n",
    "            <input type=\"hidden\" name=\"from_page\" value=\"%(from_page)s\" />\n",
    "            %(msg)s<br />\n",
    "            Username: <input type=\"text\" name=\"username\" value=\"%(username)s\" /><br />\n",
    "            Password: <input type=\"password\" name=\"password\" /><br />\n",
    "            <input type=\"submit\" value=\"Log in\" />\n",
    "        </body></html>\"\"\" % locals()\n",
    "\n",
    "    @cherrypy.expose\n",
    "    def login(self, username=None, password=None, from_page=\"/\"):\n",
    "        if username is None or password is None:\n",
    "            return self.get_loginform(\"\", from_page=from_page)\n",
    "\n",
    "        error_msg = check_credentials(username, password)\n",
    "        if error_msg:\n",
    "            return self.get_loginform(username, error_msg, from_page)\n",
    "        else:\n",
    "            cherrypy.session[SESSION_KEY] = cherrypy.request.login = username\n",
    "            self.on_login(username)\n",
    "            raise cherrypy.HTTPRedirect(from_page or \"/\")\n",
    "\n",
    "    @cherrypy.expose\n",
    "    def logout(self, from_page=\"/\"):\n",
    "        sess = cherrypy.session\n",
    "        username = sess.get(SESSION_KEY, None)\n",
    "        sess[SESSION_KEY] = None\n",
    "        if username:\n",
    "            cherrypy.request.login = None\n",
    "            self.on_logout(username)\n",
    "        raise cherrypy.HTTPRedirect(from_page or \"/\")"
   ]
  },
  {
   "cell_type": "markdown",
   "metadata": {},
   "source": [
    "##  Kết luận\n",
    "Hàm lồng nhau trong Python là rất quan trọng, và nếu biết sử dụng nó đúng cách, chúng ta sẽ viết được những đoạn code đẹp, hiệu suất cao và dễ bảo trì. Trong những ứng dụng của hàm lồng nhau, closure chính là ứng dụng quan trọng nhất. Thực ra, nếu bạn sử dụng decorator trong Python, bạn đã sử dụng closure rồi đó."
   ]
  },
  {
   "cell_type": "code",
   "execution_count": null,
   "metadata": {},
   "outputs": [],
   "source": []
  },
  {
   "cell_type": "code",
   "execution_count": null,
   "metadata": {},
   "outputs": [],
   "source": []
  },
  {
   "cell_type": "code",
   "execution_count": null,
   "metadata": {},
   "outputs": [],
   "source": []
  },
  {
   "cell_type": "code",
   "execution_count": null,
   "metadata": {},
   "outputs": [],
   "source": []
  },
  {
   "cell_type": "code",
   "execution_count": null,
   "metadata": {},
   "outputs": [],
   "source": []
  },
  {
   "cell_type": "code",
   "execution_count": null,
   "metadata": {},
   "outputs": [],
   "source": []
  },
  {
   "cell_type": "code",
   "execution_count": null,
   "metadata": {},
   "outputs": [],
   "source": []
  },
  {
   "cell_type": "code",
   "execution_count": null,
   "metadata": {},
   "outputs": [],
   "source": []
  },
  {
   "cell_type": "code",
   "execution_count": null,
   "metadata": {},
   "outputs": [],
   "source": []
  },
  {
   "cell_type": "code",
   "execution_count": null,
   "metadata": {},
   "outputs": [],
   "source": []
  },
  {
   "cell_type": "code",
   "execution_count": null,
   "metadata": {},
   "outputs": [],
   "source": []
  },
  {
   "cell_type": "code",
   "execution_count": null,
   "metadata": {},
   "outputs": [],
   "source": []
  },
  {
   "cell_type": "code",
   "execution_count": null,
   "metadata": {},
   "outputs": [],
   "source": []
  },
  {
   "cell_type": "code",
   "execution_count": null,
   "metadata": {},
   "outputs": [],
   "source": []
  },
  {
   "cell_type": "code",
   "execution_count": null,
   "metadata": {},
   "outputs": [],
   "source": []
  }
 ],
 "metadata": {
  "kernelspec": {
   "display_name": "Python 3",
   "language": "python",
   "name": "python3"
  },
  "language_info": {
   "codemirror_mode": {
    "name": "ipython",
    "version": 3
   },
   "file_extension": ".py",
   "mimetype": "text/x-python",
   "name": "python",
   "nbconvert_exporter": "python",
   "pygments_lexer": "ipython3",
   "version": "3.7.5"
  }
 },
 "nbformat": 4,
 "nbformat_minor": 2
}
